{
 "cells": [
  {
   "cell_type": "markdown",
   "metadata": {},
   "source": [
    "# Mi primer Notebook!"
   ]
  },
  {
   "cell_type": "markdown",
   "metadata": {},
   "source": [
    "2do C. Zarza Iglesias, Natalia"
   ]
  },
  {
   "cell_type": "code",
   "execution_count": 1,
   "metadata": {},
   "outputs": [
    {
     "name": "stdout",
     "output_type": "stream",
     "text": [
      "Hola Mundo\n"
     ]
    }
   ],
   "source": [
    "print(\"Hola Mundo\")"
   ]
  },
  {
   "cell_type": "markdown",
   "metadata": {},
   "source": [
    "## Mis primeros descriptivos con Pandas"
   ]
  },
  {
   "cell_type": "markdown",
   "metadata": {},
   "source": [
    "Importa la biblioteca pandas y la asigna al alias pd, para gestionar datos en Python.\n",
    "\n",
    "\n",
    "\n",
    "\n",
    "\n",
    "\n"
   ]
  },
  {
   "cell_type": "code",
   "execution_count": null,
   "metadata": {},
   "outputs": [],
   "source": [
    "# Importa la biblioteca pandas, usada para análisis y manipulación de datos, y la asigna al alias \"pd\".\n",
    "import pandas as pd"
   ]
  },
  {
   "cell_type": "markdown",
   "metadata": {},
   "source": [
    "Crea un DataFrame llamado df usando el diccionario datos, con columnas \"edad\" y \"peso\".\n",
    "\n",
    "\n",
    "\n",
    "\n",
    "\n",
    "\n"
   ]
  },
  {
   "cell_type": "code",
   "execution_count": null,
   "metadata": {},
   "outputs": [],
   "source": [
    "# Crea un diccionario llamado \"datos\" con dos claves: \"edad\" y \"peso\", cada una asociada a una lista de valores.\n",
    "datos = {\n",
    "    \"edad\": [8, 9, 10, 11, 12], \n",
    "    \"peso\": [30, 32, 35, 37, 40]\n",
    "}\n",
    "# Convierte el diccionario \"datos\" en un DataFrame de pandas, almacenándolo en la variable \"df\".\n",
    "df = pd.DataFrame(datos)"
   ]
  },
  {
   "cell_type": "markdown",
   "metadata": {},
   "source": [
    "Calcula y muestra la media y desviación típica de las columnas \"edad\" y \"peso\" del DataFrame df.\n",
    "\n",
    "\n",
    "\n",
    "\n",
    "\n",
    "\n"
   ]
  },
  {
   "cell_type": "code",
   "execution_count": null,
   "metadata": {},
   "outputs": [
    {
     "name": "stdout",
     "output_type": "stream",
     "text": [
      "Media de Edad 10.0\n",
      "Desviación Típica de Edad: 1.5811388300841898\n",
      "Media de Peso: 34.8\n",
      "Desviación Típica de Peso: 3.9623225512317903\n"
     ]
    }
   ],
   "source": [
    "# Calcula la media de la columna \"edad\" del DataFrame y la almacena en la variable \"media_edad\".\n",
    "media_edad = df[\"edad\"].mean()\n",
    "# Calcula la desviación típica de la columna \"edad\" del DataFrame y la almacena en \"desviacion_tipica_edad\".\n",
    "desviacion_tipica_edad = df[\"edad\"].std()\n",
    "# Calcula la media de la columna \"peso\" del DataFrame y la almacena en \"media_peso\".\n",
    "media_peso = df[\"peso\"].mean()\n",
    "# Calcula la desviación típica de la columna \"peso\" del DataFrame y la almacena en \"desviacion_tipica_peso\".\n",
    "desviacion_tipica_peso = df[\"peso\"].std()\n",
    "# Imprime los valores calculados de la media y la desviación típica para las columnas \"edad\" y \"peso\".\n",
    "print(\"Media de Edad\", media_edad)\n",
    "print(\"Desviación Típica de Edad:\", desviacion_tipica_edad)\n",
    "print(\"Media de Peso:\", media_peso)\n",
    "print(\"Desviación Típica de Peso:\", desviacion_tipica_peso)"
   ]
  }
 ],
 "metadata": {
  "kernelspec": {
   "display_name": "Python 3",
   "language": "python",
   "name": "python3"
  },
  "language_info": {
   "codemirror_mode": {
    "name": "ipython",
    "version": 3
   },
   "file_extension": ".py",
   "mimetype": "text/x-python",
   "name": "python",
   "nbconvert_exporter": "python",
   "pygments_lexer": "ipython3",
   "version": "3.11.9"
  }
 },
 "nbformat": 4,
 "nbformat_minor": 2
}
